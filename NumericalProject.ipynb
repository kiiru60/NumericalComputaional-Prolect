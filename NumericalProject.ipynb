{
 "cells": [
  {
   "cell_type": "markdown",
   "metadata": {},
   "source": [
    "<html>Numerical Computational Project 2<\\html>"
   ]
  },
  {
   "cell_type": "code",
   "execution_count": 1,
   "metadata": {},
   "outputs": [],
   "source": [
    "## Import numpy as we will be using this\n",
    "import numpy as np"
   ]
  },
  {
   "cell_type": "markdown",
   "metadata": {},
   "source": [
    "Number 1a"
   ]
  },
  {
   "cell_type": "code",
   "execution_count": 10,
   "metadata": {},
   "outputs": [
    {
     "name": "stdout",
     "output_type": "stream",
     "text": [
      "The Derivative is: 8.999999999979025\n"
     ]
    }
   ],
   "source": [
    "# Estimation Parameters\n",
    "h = 0.0001 #The interval\n",
    "\n",
    "#the fuction\n",
    "def theFunc(x):\n",
    "    return x**2.0- x + 2\n",
    "#figuring out the derivative \n",
    "x = 5\n",
    "fPrime = (theFunc(x + h) - theFunc(x - h))/(2*h)\n",
    "#printing the answer\n",
    "print(\"The Derivative is:\", fPrime)"
   ]
  },
  {
   "cell_type": "markdown",
   "metadata": {},
   "source": [
    "Number 1b"
   ]
  },
  {
   "cell_type": "code",
   "execution_count": 19,
   "metadata": {},
   "outputs": [
    {
     "name": "stdout",
     "output_type": "stream",
     "text": [
      "0.9505266196904689\n"
     ]
    }
   ],
   "source": [
    "# Estimation Parameters\n",
    "numOfPoints = 1000\n",
    "# the function \n",
    "def theFunc(x):\n",
    "    return (np.e**(-0.5*(x**2)))/((2*np.pi)**0.5)\n",
    "# figuring out the integral\n",
    "#The bounds \n",
    "a = -10\n",
    "b = 1.65\n",
    "# grid construction \n",
    "xPoints = np.linspace(a, b, numOfPoints)\n",
    "#evaluate the integral\n",
    "h = (b-a)/(numOfPoints-1)\n",
    "theIntegral = 0\n",
    "for iterNum in range(0,numOfPoints-1):\n",
    "    theIntegral = theIntegral + (h/2)*(theFunc(xPoints[iterNum]) + theFunc(xPoints[iterNum + 1]))\n",
    "#print Answer\n",
    "print(\"The Integral is:\",theIntegral)    "
   ]
  },
  {
   "cell_type": "markdown",
   "metadata": {},
   "source": [
    "Number 1c"
   ]
  },
  {
   "cell_type": "code",
   "execution_count": 22,
   "metadata": {},
   "outputs": [
    {
     "name": "stdout",
     "output_type": "stream",
     "text": [
      "The Numerical Root is: 1.7915365993976593\n",
      "The function value at this Root is: 4.882300768116465e-07\n"
     ]
    }
   ],
   "source": [
    "# Estimation Parameters\n",
    "tolerance = 0.000001\n",
    "# The Function\n",
    "def theFunc(x):\n",
    "    return np.log(x) - 2*x + 3\n",
    "# Figuring out the Root\n",
    "## The bounds\n",
    "a = 0.5\n",
    "b = 10\n",
    "## Loop to find the root\n",
    "while (b-a) > tolerance:\n",
    "    mdPoint = (a+b)/2\n",
    "    mdPointFVal = theFunc(mdPoint)\n",
    "    \n",
    "    if(mdPointFVal > 0):\n",
    "        a = midPoint\n",
    "    else:\n",
    "        b = midPoint\n",
    "# Print the Answer\n",
    "print(\"The Numerical Root is:\", midPoint)\n",
    "print(\"The function value at this Root is:\", theFunc(mdPoint))"
   ]
  },
  {
   "cell_type": "markdown",
   "metadata": {},
   "source": [
    "Number 1d"
   ]
  },
  {
   "cell_type": "code",
   "execution_count": 47,
   "metadata": {},
   "outputs": [
    {
     "name": "stdout",
     "output_type": "stream",
     "text": [
      "The Minimizer is: 0.8526055548856395\n"
     ]
    },
    {
     "name": "stderr",
     "output_type": "stream",
     "text": [
      "/opt/anaconda3/lib/python3.7/site-packages/ipykernel_launcher.py:6: RuntimeWarning: invalid value encountered in log\n",
      "  \n"
     ]
    }
   ],
   "source": [
    "# Constant\n",
    "goldenRatio = ((5**0.5) + 1)/2\n",
    "# Estimation Parameters\n",
    "tolerance = 0.000001\n",
    "# The Function\n",
    "def theFunc(x):\n",
    "    return (np.e**x) - (2*np.log(x)) + 3\n",
    "# Figuring out the Max\n",
    "## The Bounds\n",
    "a = -1\n",
    "b = 1\n",
    "## Loop to find the max\n",
    "while (b-a) > tolerance:\n",
    "    c = b - ((b-a)/goldenRatio)\n",
    "    d = a + ((b-a)/goldenRatio)\n",
    "    \n",
    "    if(theFunc(c) < theFunc(d)):\n",
    "        b = d\n",
    "    else:\n",
    "        a = c\n",
    "#print results\n",
    "print(\"The Minimizer is:\", (b+a)/2)\n",
    "\n"
   ]
  },
  {
   "cell_type": "markdown",
   "metadata": {},
   "source": [
    "Number 2a"
   ]
  },
  {
   "cell_type": "code",
   "execution_count": 32,
   "metadata": {},
   "outputs": [],
   "source": [
    "import scipy"
   ]
  },
  {
   "cell_type": "code",
   "execution_count": 33,
   "metadata": {},
   "outputs": [
    {
     "name": "stdout",
     "output_type": "stream",
     "text": [
      "The derivative is: 9.000000000369823\n"
     ]
    }
   ],
   "source": [
    "# Import the derivative module\n",
    "from scipy.misc import derivative\n",
    "\n",
    "# Define the function\n",
    "def theFunc(x):\n",
    "    return x**2 - x + 2\n",
    "# Differentiate \n",
    "x0 = 5\n",
    "dx = 1e-6\n",
    "order = 1\n",
    "theDerivative = derivative(theFunc, x0, dx, order)\n",
    "# Print the answer\n",
    "print(\"The derivative is:\", theDerivative)"
   ]
  },
  {
   "cell_type": "markdown",
   "metadata": {},
   "source": [
    "Number 2b"
   ]
  },
  {
   "cell_type": "code",
   "execution_count": 34,
   "metadata": {},
   "outputs": [],
   "source": [
    "# Import the integration module\n",
    "from scipy import integrate"
   ]
  },
  {
   "cell_type": "code",
   "execution_count": 35,
   "metadata": {},
   "outputs": [
    {
     "name": "stdout",
     "output_type": "stream",
     "text": [
      "The integral and etimate numerical error is: (0.45052853196635195, 5.001871494396148e-15)\n"
     ]
    }
   ],
   "source": [
    "# Define the function\n",
    "def theFunc(x):\n",
    "    return (np.e**(-0.5*(x**2)))/((2*np.pi)**0.5)\n",
    "# Integrate\n",
    "a = 0 #lower bound\n",
    "b = 1.65 #Upper bound\n",
    "theIntegral = integrate.quad(theFunc, a, b)\n",
    "\n",
    "#print the Answer\n",
    "print(\"The integral and estimated numerical error is:\", theIntegral)"
   ]
  },
  {
   "cell_type": "markdown",
   "metadata": {},
   "source": [
    "Number 2c"
   ]
  },
  {
   "cell_type": "code",
   "execution_count": 41,
   "metadata": {},
   "outputs": [
    {
     "ename": "TypeError",
     "evalue": "unsupported operand type(s) for ** or pow(): 'numpy.ufunc' and 'float'",
     "output_type": "error",
     "traceback": [
      "\u001b[0;31m---------------------------------------------------------------------------\u001b[0m",
      "\u001b[0;31mTypeError\u001b[0m                                 Traceback (most recent call last)",
      "\u001b[0;32m<ipython-input-41-95f0f447eb8f>\u001b[0m in \u001b[0;36m<module>\u001b[0;34m\u001b[0m\n\u001b[1;32m      6\u001b[0m \u001b[0ma\u001b[0m \u001b[0;34m=\u001b[0m \u001b[0;36m0.1\u001b[0m\u001b[0;34m\u001b[0m\u001b[0;34m\u001b[0m\u001b[0m\n\u001b[1;32m      7\u001b[0m \u001b[0mb\u001b[0m \u001b[0;34m=\u001b[0m \u001b[0;36m2\u001b[0m\u001b[0;34m\u001b[0m\u001b[0;34m\u001b[0m\u001b[0m\n\u001b[0;32m----> 8\u001b[0;31m \u001b[0mtheRoot\u001b[0m \u001b[0;34m=\u001b[0m \u001b[0moptimize\u001b[0m\u001b[0;34m.\u001b[0m\u001b[0mbisect\u001b[0m\u001b[0;34m(\u001b[0m\u001b[0mtheFunc\u001b[0m\u001b[0;34m,\u001b[0m \u001b[0ma\u001b[0m\u001b[0;34m,\u001b[0m \u001b[0mb\u001b[0m\u001b[0;34m)\u001b[0m\u001b[0;34m\u001b[0m\u001b[0;34m\u001b[0m\u001b[0m\n\u001b[0m\u001b[1;32m      9\u001b[0m \u001b[0;34m\u001b[0m\u001b[0m\n\u001b[1;32m     10\u001b[0m \u001b[0mprint\u001b[0m\u001b[0;34m(\u001b[0m\u001b[0;34m\"The root is:\"\u001b[0m\u001b[0;34m,\u001b[0m \u001b[0mtheRoot\u001b[0m\u001b[0;34m)\u001b[0m\u001b[0;34m\u001b[0m\u001b[0;34m\u001b[0m\u001b[0m\n",
      "\u001b[0;32m/opt/anaconda3/lib/python3.7/site-packages/scipy/optimize/zeros.py\u001b[0m in \u001b[0;36mbisect\u001b[0;34m(f, a, b, args, xtol, rtol, maxiter, full_output, disp)\u001b[0m\n\u001b[1;32m    548\u001b[0m     \u001b[0;32mif\u001b[0m \u001b[0mrtol\u001b[0m \u001b[0;34m<\u001b[0m \u001b[0m_rtol\u001b[0m\u001b[0;34m:\u001b[0m\u001b[0;34m\u001b[0m\u001b[0;34m\u001b[0m\u001b[0m\n\u001b[1;32m    549\u001b[0m         \u001b[0;32mraise\u001b[0m \u001b[0mValueError\u001b[0m\u001b[0;34m(\u001b[0m\u001b[0;34m\"rtol too small (%g < %g)\"\u001b[0m \u001b[0;34m%\u001b[0m \u001b[0;34m(\u001b[0m\u001b[0mrtol\u001b[0m\u001b[0;34m,\u001b[0m \u001b[0m_rtol\u001b[0m\u001b[0;34m)\u001b[0m\u001b[0;34m)\u001b[0m\u001b[0;34m\u001b[0m\u001b[0;34m\u001b[0m\u001b[0m\n\u001b[0;32m--> 550\u001b[0;31m     \u001b[0mr\u001b[0m \u001b[0;34m=\u001b[0m \u001b[0m_zeros\u001b[0m\u001b[0;34m.\u001b[0m\u001b[0m_bisect\u001b[0m\u001b[0;34m(\u001b[0m\u001b[0mf\u001b[0m\u001b[0;34m,\u001b[0m \u001b[0ma\u001b[0m\u001b[0;34m,\u001b[0m \u001b[0mb\u001b[0m\u001b[0;34m,\u001b[0m \u001b[0mxtol\u001b[0m\u001b[0;34m,\u001b[0m \u001b[0mrtol\u001b[0m\u001b[0;34m,\u001b[0m \u001b[0mmaxiter\u001b[0m\u001b[0;34m,\u001b[0m \u001b[0margs\u001b[0m\u001b[0;34m,\u001b[0m \u001b[0mfull_output\u001b[0m\u001b[0;34m,\u001b[0m \u001b[0mdisp\u001b[0m\u001b[0;34m)\u001b[0m\u001b[0;34m\u001b[0m\u001b[0;34m\u001b[0m\u001b[0m\n\u001b[0m\u001b[1;32m    551\u001b[0m     \u001b[0;32mreturn\u001b[0m \u001b[0mresults_c\u001b[0m\u001b[0;34m(\u001b[0m\u001b[0mfull_output\u001b[0m\u001b[0;34m,\u001b[0m \u001b[0mr\u001b[0m\u001b[0;34m)\u001b[0m\u001b[0;34m\u001b[0m\u001b[0;34m\u001b[0m\u001b[0m\n\u001b[1;32m    552\u001b[0m \u001b[0;34m\u001b[0m\u001b[0m\n",
      "\u001b[0;32m<ipython-input-41-95f0f447eb8f>\u001b[0m in \u001b[0;36mtheFunc\u001b[0;34m(x)\u001b[0m\n\u001b[1;32m      2\u001b[0m \u001b[0;34m\u001b[0m\u001b[0m\n\u001b[1;32m      3\u001b[0m \u001b[0;32mdef\u001b[0m \u001b[0mtheFunc\u001b[0m\u001b[0;34m(\u001b[0m\u001b[0mx\u001b[0m\u001b[0;34m)\u001b[0m\u001b[0;34m:\u001b[0m\u001b[0;34m\u001b[0m\u001b[0;34m\u001b[0m\u001b[0m\n\u001b[0;32m----> 4\u001b[0;31m     \u001b[0;32mreturn\u001b[0m \u001b[0;34m(\u001b[0m\u001b[0;36m2\u001b[0m\u001b[0;34m*\u001b[0m\u001b[0mnp\u001b[0m\u001b[0;34m.\u001b[0m\u001b[0mexp\u001b[0m\u001b[0;34m**\u001b[0m\u001b[0mx\u001b[0m\u001b[0;34m)\u001b[0m \u001b[0;34m-\u001b[0m \u001b[0;34m(\u001b[0m\u001b[0;36m4\u001b[0m\u001b[0;34m*\u001b[0m\u001b[0mnp\u001b[0m\u001b[0;34m.\u001b[0m\u001b[0mlog\u001b[0m\u001b[0;34m(\u001b[0m\u001b[0mx\u001b[0m\u001b[0;34m)\u001b[0m\u001b[0;34m)\u001b[0m \u001b[0;34m-\u001b[0m \u001b[0;36m7\u001b[0m\u001b[0;34m\u001b[0m\u001b[0;34m\u001b[0m\u001b[0m\n\u001b[0m\u001b[1;32m      5\u001b[0m \u001b[0;34m\u001b[0m\u001b[0m\n\u001b[1;32m      6\u001b[0m \u001b[0ma\u001b[0m \u001b[0;34m=\u001b[0m \u001b[0;36m0.1\u001b[0m\u001b[0;34m\u001b[0m\u001b[0;34m\u001b[0m\u001b[0m\n",
      "\u001b[0;31mTypeError\u001b[0m: unsupported operand type(s) for ** or pow(): 'numpy.ufunc' and 'float'"
     ]
    }
   ],
   "source": [
    "# Import the optimization module\n",
    "from scipy import optimize\n",
    "#define the function\n",
    "def theFunc(x):\n",
    "    return -(2*np.exp**x) - (4*np.log(x)) - 7\n",
    "# Find the root\n",
    "a = 0.1# upper bound\n",
    "b = 2 # lower bound \n",
    "\n",
    "theRoot = optimize.bisect(theFunc, a, b)\n",
    "# print the answer \n",
    "print(\"The root is:\", theRoot)"
   ]
  },
  {
   "cell_type": "markdown",
   "metadata": {},
   "source": [
    "Number 2d"
   ]
  },
  {
   "cell_type": "code",
   "execution_count": 40,
   "metadata": {},
   "outputs": [
    {
     "name": "stdout",
     "output_type": "stream",
     "text": [
      "The minimizer is: [6.00002574 0.99996641]\n",
      "The minimum is: 1.7906895635048425e-09\n"
     ]
    }
   ],
   "source": [
    "# Import the optimization module\n",
    "from scipy import optimize \n",
    "# define the function\n",
    "def theFunc(x):\n",
    "    return ((x[0]-6)**2) + ((x[1]-1)**2)\n",
    "# Find the minimum\n",
    "initGuess = [3,3]\n",
    "OptimizeResults = optimize.minimize(theFunc, x0 = initGuess, method = \"Nelder-Mead\")\n",
    "# Print the answer\n",
    "if(OptimizeResults.success):\n",
    "    print(\"The minimizer is:\", OptimizeResults.x)\n",
    "    print(\"The minimum is:\", OptimizeResults.fun)\n",
    "else:\n",
    "    print(\"Minimization was unsuccessful\")"
   ]
  },
  {
   "cell_type": "markdown",
   "metadata": {},
   "source": [
    "Number 2e"
   ]
  },
  {
   "cell_type": "code",
   "execution_count": 44,
   "metadata": {},
   "outputs": [
    {
     "name": "stdout",
     "output_type": "stream",
     "text": [
      "The maximizer is: [1.99995272 3.99997053]\n",
      "The maximum is: -1.9999999982896712\n"
     ]
    }
   ],
   "source": [
    "# Import the optimization module\n",
    "from scipy import optimize \n",
    "# define the function\n",
    "def theFunc(x):\n",
    "    return -((-(x[0]-1)**2) - ((x[1]-3)**2) - 2*x[0] + x[0]*x[1])\n",
    "#find the minimum\n",
    "initGuess = [3,3]\n",
    "OptimizeResults = optimize.minimize(theFunc, x0 = initGuess, method = \"Nelder-Mead\")\n",
    "# print the answer\n",
    "if(OptimizeResults.success):\n",
    "    print(\"The maximizer is:\", OptimizeResults.x)\n",
    "    print(\"The maximum is:\", OptimizeResults.fun)\n",
    "else:\n",
    "    print(\"Maximization was unsuccessful\")"
   ]
  },
  {
   "cell_type": "markdown",
   "metadata": {},
   "source": [
    "Number 2f"
   ]
  },
  {
   "cell_type": "code",
   "execution_count": 45,
   "metadata": {},
   "outputs": [
    {
     "name": "stdout",
     "output_type": "stream",
     "text": [
      "The maximizer is: [49.99997137 49.99993812]\n",
      "The maximum is: -14.142129223567197\n"
     ]
    }
   ],
   "source": [
    "# Import the optimization module\n",
    "from scipy import optimize\n",
    "\n",
    "#define the function\n",
    "def theFunc(x):\n",
    "    return -((x[0])**0.5 + (x[1])**0.5)\n",
    "#define the bounds \n",
    "theBounds = optimize.Bounds([10,0], [np.inf,np.inf])\n",
    "#define the constarints\n",
    "def constraintFunc(x):\n",
    "    return x[0] + x[1]\n",
    "#define intial guess\n",
    "theConstraints = optimize.NonlinearConstraint(constraintFunc, -np.inf, 100)\n",
    "\n",
    "initGuess = [2,2]\n",
    "#find the minimum\n",
    "OptimizeResults = optimize.minimize(theFunc, x0 = initGuess,\n",
    "                                   method = \"trust-constr\",\n",
    "                                   bounds = (theBounds),\n",
    "                                   constraints = (theConstraints))\n",
    "# print the results\n",
    "if(OptimizeResults.success):\n",
    "    print(\"The maximizer is:\", OptimizeResults.x)\n",
    "    print(\"The maximum is:\", OptimizeResults.fun)\n",
    "else:\n",
    "    print(\"Maximization was unsuccessful\")\n"
   ]
  },
  {
   "cell_type": "markdown",
   "metadata": {},
   "source": [
    "Number 2g"
   ]
  },
  {
   "cell_type": "code",
   "execution_count": 48,
   "metadata": {},
   "outputs": [
    {
     "name": "stdout",
     "output_type": "stream",
     "text": [
      "The maximizer is: [10.0000028 39.9999874]\n",
      "The maximum is: -3299.998039829645\n"
     ]
    }
   ],
   "source": [
    "# Import the optimization module\n",
    "from scipy import optimize\n",
    "\n",
    "#define the function\n",
    "def theFunc(x):\n",
    "    return -((x[0])**2 + 2*(x[1])**2)\n",
    "# define the bounds \n",
    "theBounds = optimize.Bounds([10,0], [np.inf,np.inf])\n",
    "# define the constarints \n",
    "def constraintFunc(x):\n",
    "    return x[0] + x[1]\n",
    "\n",
    "theConstraints = optimize.NonlinearConstraint(constraintFunc, -np.inf, 50)\n",
    "# define intial guess\n",
    "initGuess = [2,2]\n",
    "# find the minimum\n",
    "OptimizeResults = optimize.minimize(theFunc, x0 = initGuess,\n",
    "                                   method = \"trust-constr\",\n",
    "                                   bounds = (theBounds),\n",
    "                                   constraints = (theConstraints))\n",
    "# print the answer\n",
    "if(OptimizeResults.success):\n",
    "    print(\"The maximizer is:\", OptimizeResults.x)\n",
    "    print(\"The maximum is:\", OptimizeResults.fun)\n",
    "else:\n",
    "    print(\"Maximization was unsuccessful\")"
   ]
  },
  {
   "cell_type": "markdown",
   "metadata": {},
   "source": [
    "Number 2h"
   ]
  },
  {
   "cell_type": "code",
   "execution_count": 52,
   "metadata": {},
   "outputs": [
    {
     "name": "stdout",
     "output_type": "stream",
     "text": [
      "The Maximizer is: [14.99999927 11.99999887]\n",
      "The Maximum is: -131.99999032019434\n"
     ]
    }
   ],
   "source": [
    "# Import the optimization module\n",
    "from scipy import optimize\n",
    "# Define the problem\n",
    "c = [-4,-6]\n",
    "A_ub = [[-1, 1], [1, 1], [2, 5]]\n",
    "b_ub = [11, 27, 90]\n",
    "#find the minimum\n",
    "OptimizeResults = optimize.linprog(c, A_ub, b_ub)\n",
    "#print the results\n",
    "if (OptimizeResults.success):\n",
    "    print(\"The Maximizer is:\", OptimizeResults.x) \n",
    "    print(\"The Maximum is:\", OptimizeResults.fun)\n",
    "else:\n",
    "    print(\"Minimization was unsuccessful\")"
   ]
  }
 ],
 "metadata": {
  "kernelspec": {
   "display_name": "Python 3",
   "language": "python",
   "name": "python3"
  },
  "language_info": {
   "codemirror_mode": {
    "name": "ipython",
    "version": 3
   },
   "file_extension": ".py",
   "mimetype": "text/x-python",
   "name": "python",
   "nbconvert_exporter": "python",
   "pygments_lexer": "ipython3",
   "version": "3.7.0b3"
  }
 },
 "nbformat": 4,
 "nbformat_minor": 4
}
